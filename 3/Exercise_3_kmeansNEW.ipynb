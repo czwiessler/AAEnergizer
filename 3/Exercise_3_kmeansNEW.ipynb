{
 "cells": [
  {
   "metadata": {},
   "cell_type": "code",
   "source": [
    "import pandas as pd\n",
    "import seaborn as sns\n",
    "from sklearn.preprocessing import StandardScaler\n",
    "from sklearn.cluster import KMeans\n",
    "from sklearn.metrics import silhouette_score\n",
    "import matplotlib.pyplot as plt\n",
    "from pytz import timezone"
   ],
   "id": "c9bf9d28e3074d22",
   "outputs": [],
   "execution_count": null
  },
  {
   "metadata": {},
   "cell_type": "code",
   "source": [
    "# 1. CSV-Daten laden\n",
    "file_path = \"../data/processed/charging_sessions_cleaned.csv\"\n",
    "#file_path = \"../data/raw/charging_sessions.csv\"\n",
    "df = pd.read_csv(file_path, parse_dates=[\"connectionTime\", \"disconnectTime\", 'doneChargingTime'])\n",
    "df.head()"
   ],
   "id": "c9cab3294fd59cdc",
   "outputs": [],
   "execution_count": null
  },
  {
   "metadata": {},
   "cell_type": "code",
   "source": [
    "# 2. Zeitzonenanpassung\n",
    "local_timezone = timezone(\"America/Los_Angeles\") #TODO zeitzone as dataframe auslesen timezone(df['timezone'].to_string())\n",
    "\n",
    "if df['connectionTime'].dt.tz is None:\n",
    "    df['connectionTime'] = df['connectionTime'].dt.tz_localize('UTC').dt.tz_convert(local_timezone)\n",
    "else:\n",
    "    df['connectionTime'] = df['connectionTime'].dt.tz_convert(local_timezone)\n",
    "\n",
    "if df['disconnectTime'].dt.tz is None:\n",
    "    df['disconnectTime'] = df['disconnectTime'].dt.tz_localize('UTC').dt.tz_convert(local_timezone)\n",
    "else:\n",
    "    df['disconnectTime'] = df['disconnectTime'].dt.tz_convert(local_timezone)\n",
    "\n",
    "if df['doneChargingTime'].dt.tz is None:\n",
    "    df['doneChargingTime'] = df['doneChargingTime'].dt.tz_localize('UTC').dt.tz_convert(local_timezone)\n",
    "else:\n",
    "    df['doneChargingTime'] = df['doneChargingTime'].dt.tz_convert(local_timezone)\n",
    "\n",
    "# 3. Feature-Engineering\n",
    "df['duration'] = (df['disconnectTime'] - df['connectionTime']).dt.total_seconds() / 3600 #duration in Stunden\n",
    "df['ConnectionHourOfDay'] = df['connectionTime'].dt.hour\n",
    "#features = df[['kWhDelivered', 'duration', 'ConnectionHourOfDay', 'siteID']].dropna()\n",
    "#features = df.dropna()\n",
    "\n",
    "features = df.drop(columns=['Unnamed: 0','id','sessionID','stationID','timezone'])\n",
    "# 4. Daten normalisieren\n",
    "#scaler = StandardScaler()\n",
    "#scaled_features = scaler.fit_transform(features)\n",
    "\n",
    "features.info()"
   ],
   "id": "b5b5ee5e6ec510ba",
   "outputs": [],
   "execution_count": null
  },
  {
   "metadata": {},
   "cell_type": "code",
   "source": "features.head()",
   "id": "faeda1f76895c3e1",
   "outputs": [],
   "execution_count": null
  },
  {
   "metadata": {},
   "cell_type": "code",
   "source": "sns.pairplot(data=features)\n",
   "id": "98b7b0b689ca684d",
   "outputs": [],
   "execution_count": null
  },
  {
   "metadata": {},
   "cell_type": "code",
   "source": [
    "droppedfeatures = features.drop(columns=['userInputs','connectionTime','disconnectTime','doneChargingTime']).dropna()\n",
    "droppedfeatures.info()"
   ],
   "id": "ac2a0f4208f6ea84",
   "outputs": [],
   "execution_count": null
  },
  {
   "metadata": {
    "collapsed": true
   },
   "cell_type": "code",
   "source": [
    "scaler = StandardScaler()\n",
    "scaled_features = scaler.fit_transform(droppedfeatures)\n",
    "\n",
    "\n",
    "# 5. Elbow-Methode zur Bestimmung der optimalen Anzahl von Clustern\n",
    "inertia = []\n",
    "cluster_range = range(1, 11)\n",
    "\n",
    "for k in cluster_range:\n",
    "    kmeans = KMeans(n_clusters=k, random_state=42)\n",
    "    kmeans.fit(scaled_features)\n",
    "    inertia.append(kmeans.inertia_)\n",
    "\n",
    "# Elbow-Plot erstellen\n",
    "plt.figure(figsize=(8, 6))\n",
    "plt.plot(cluster_range, inertia, marker='o', linestyle='--')\n",
    "plt.title(\"Elbow-Methode zur Bestimmung der optimalen Clusteranzahl\")\n",
    "plt.xlabel(\"Anzahl der Cluster (k)\")\n",
    "plt.ylabel(\"Inertia (Summe der quadrierten Abstände)\")\n",
    "plt.grid(True)\n",
    "plt.show()"
   ],
   "id": "initial_id",
   "outputs": [],
   "execution_count": null
  },
  {
   "metadata": {},
   "cell_type": "code",
   "source": [
    "# 6. Clusteranalyse mit der optimalen Anzahl von Clustern\n",
    "# Benutzer kann die optimale Anzahl der Cluster auswählen\n",
    "optimal_k = int(input(\"Gib die optimale Anzahl der Cluster (k) ein: \"))\n",
    "kmeans = KMeans(n_clusters=optimal_k, random_state=42)\n",
    "droppedfeatures['cluster'] = kmeans.fit_predict(scaled_features)\n",
    "\n",
    "# Cluster-Zentren zurückskalieren\n",
    "cluster_centers = scaler.inverse_transform(kmeans.cluster_centers_)\n",
    "\n",
    "# Cluster-Zentren ausgeben\n",
    "print(f\"\\nCluster-Zentren ({optimal_k} Cluster):\")\n",
    "for i, center in enumerate(cluster_centers):\n",
    "    print(f\"Cluster {i + 1}:\")\n",
    "    print(f\"  Gelieferte Energie = {center[0]:.2f} kWh\")\n",
    "    print(f\"  Ladezeit = {center[1]:.2f} Stunden\")\n",
    "    print(f\"  Stunde des Tages = {center[2]:.2f}\")\n",
    "    print(f\"  Standort-ID = {center[3]:.2f}\")\n",
    "    print()"
   ],
   "id": "7ca8c1275780697b",
   "outputs": [],
   "execution_count": null
  },
  {
   "metadata": {},
   "cell_type": "code",
   "source": [
    "score = silhouette_score(scaled_features,droppedfeatures['cluster'])\n",
    "print(f\"Silhouetten-Score: {score:.2f}\")"
   ],
   "id": "cbd882e3df5b817e",
   "outputs": [],
   "execution_count": null
  },
  {
   "metadata": {},
   "cell_type": "code",
   "source": [
    "# 7. Grafische Darstellung der Clusteranalyse\n",
    "fig = plt.figure(figsize=(12, 8))\n",
    "ax = fig.add_subplot(111, projection='3d')\n",
    "\n",
    "scatter = ax.scatter(\n",
    "    droppedfeatures['kWhDelivered'],\n",
    "    droppedfeatures['duration'],\n",
    "    droppedfeatures['ConnectionHourOfDay'],\n",
    "    c=droppedfeatures['cluster'], cmap='viridis', s=50, alpha=0.6\n",
    ")\n",
    "\n",
    "# Achsen beschriften\n",
    "ax.set_xlabel(\"Gelieferte Energie (kWh)\")\n",
    "ax.set_ylabel(\"Ladezeit (Stunden)\")\n",
    "ax.set_zlabel(\"Stunde des Tages\")\n",
    "ax.set_title(f\"Clusteranalyse mit {optimal_k} Clustern\")\n",
    "\n",
    "# Farbskala hinzufügen\n",
    "cbar = plt.colorbar(scatter, pad=0.1, ax=ax)\n",
    "cbar.set_label(\"Cluster\")\n",
    "\n",
    "plt.show()"
   ],
   "id": "b00d82cf83e3c234",
   "outputs": [],
   "execution_count": null
  },
  {
   "metadata": {
    "ExecuteTime": {
     "end_time": "2025-01-14T21:44:25.058101Z",
     "start_time": "2025-01-14T21:44:25.032179Z"
    }
   },
   "cell_type": "code",
   "source": [
    "cluster_size = scaled_features.groupby('cluster').size()\n",
    "cluster_size"
   ],
   "id": "293e640dbef61fbe",
   "outputs": [
    {
     "ename": "AttributeError",
     "evalue": "'numpy.ndarray' object has no attribute 'groupby'",
     "output_type": "error",
     "traceback": [
      "\u001B[1;31m---------------------------------------------------------------------------\u001B[0m",
      "\u001B[1;31mAttributeError\u001B[0m                            Traceback (most recent call last)",
      "Cell \u001B[1;32mIn[3], line 1\u001B[0m\n\u001B[1;32m----> 1\u001B[0m cluster_size \u001B[38;5;241m=\u001B[39m \u001B[43mscaled_features\u001B[49m\u001B[38;5;241;43m.\u001B[39;49m\u001B[43mgroupby\u001B[49m(\u001B[38;5;124m'\u001B[39m\u001B[38;5;124mcluster\u001B[39m\u001B[38;5;124m'\u001B[39m)\u001B[38;5;241m.\u001B[39msize()\n\u001B[0;32m      2\u001B[0m cluster_size\n",
      "\u001B[1;31mAttributeError\u001B[0m: 'numpy.ndarray' object has no attribute 'groupby'"
     ]
    }
   ],
   "execution_count": 3
  }
 ],
 "metadata": {
  "kernelspec": {
   "display_name": "Python 3",
   "language": "python",
   "name": "python3"
  },
  "language_info": {
   "codemirror_mode": {
    "name": "ipython",
    "version": 2
   },
   "file_extension": ".py",
   "mimetype": "text/x-python",
   "name": "python",
   "nbconvert_exporter": "python",
   "pygments_lexer": "ipython2",
   "version": "2.7.6"
  }
 },
 "nbformat": 4,
 "nbformat_minor": 5
}
